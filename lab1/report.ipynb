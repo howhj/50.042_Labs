{
 "cells": [
  {
   "cell_type": "markdown",
   "id": "searching-pioneer",
   "metadata": {},
   "source": [
    "## FCS Lab 1 Submission Report"
   ]
  },
  {
   "cell_type": "markdown",
   "id": "raised-victim",
   "metadata": {},
   "source": [
    "* Name of Student(s): Jaron Ho\n",
    "* Student ID(s): 1005011"
   ]
  },
  {
   "cell_type": "code",
   "execution_count": 2,
   "id": "closed-bacteria",
   "metadata": {},
   "outputs": [
    {
     "name": "stdout",
     "output_type": "stream",
     "text": [
      "Execution time: 2022-05-19 08:34:16\n"
     ]
    }
   ],
   "source": [
    "import datetime\n",
    "print(\"Execution time:\", datetime.datetime.now(datetime.timezone.utc).strftime(\"%Y-%m-%d %H:%M:%S\"))"
   ]
  },
  {
   "cell_type": "markdown",
   "id": "distributed-roots",
   "metadata": {},
   "source": [
    "### Part I: Shift Cipher for printable input"
   ]
  },
  {
   "cell_type": "code",
   "execution_count": 3,
   "id": "gentle-demographic",
   "metadata": {},
   "outputs": [
    {
     "name": "stdout",
     "output_type": "stream",
     "text": [
      "{(hA\r\n",
      "XU(\"%S!A\\%\"#U)fA-X%A-Q)A+)+Q\"\"/A,U(/A\"Q*UAY$A*XUA#%($Y$W)fA)Q,UA+&%$A*X%)UA$%*AY$V(U'+U$*A%SSQ)Y%$)A-XU$AXUA-Q)A+&AQ\"\"A$YWX*fA-Q)A)UQ*UTAQ*A*XUAR(UQ!VQ)*A*QR\"Uh"
     ]
    }
   ],
   "source": [
    "!python3 ex1.py -i sherlock_short.txt -o sherlock_short.en -k 42 -m e\n",
    "!cat sherlock_short.en"
   ]
  },
  {
   "cell_type": "code",
   "execution_count": 4,
   "id": "handled-adobe",
   "metadata": {},
   "outputs": [
    {
     "name": "stdout",
     "output_type": "stream",
     "text": [
      "Mr. Sherlock Holmes, who was usually very late in the mornings, save upon those not infrequent occasions when he was up all night, was seated at the breakfast table."
     ]
    }
   ],
   "source": [
    "!python3 ex1.py -i sherlock_short.en -o sherlock_short.de.txt -k 42 -m d\n",
    "!cat sherlock_short.de.txt"
   ]
  },
  {
   "cell_type": "markdown",
   "id": "warming-producer",
   "metadata": {},
   "source": [
    "Expected output:\n",
    "```\n",
    "Mr. Sherlock Holmes, who was usually very late in the mornings, save upon those not infrequent occasions when he was up all night, was seated at the breakfast table. \n",
    "```"
   ]
  },
  {
   "cell_type": "markdown",
   "id": "severe-static",
   "metadata": {},
   "source": [
    "### Part II: Shift Cipher for binary input"
   ]
  },
  {
   "cell_type": "code",
   "execution_count": 5,
   "id": "corresponding-calgary",
   "metadata": {},
   "outputs": [
    {
     "name": "stdout",
     "output_type": "stream",
     "text": [
      "w�XJ}�������Jr�����VJ���J���J�������J����J����J��J���J��������VJ����J����J�����J���J����������J���������J����J��J���J��J���J�����VJ���J������J��J���J���������J�����X"
     ]
    }
   ],
   "source": [
    "!python3 ex2.py -i sherlock_short.txt -o sherlock_short.en.bin -k 42 -m e\n",
    "!cat sherlock_short.en.bin"
   ]
  },
  {
   "cell_type": "code",
   "execution_count": 6,
   "id": "fiscal-turkish",
   "metadata": {},
   "outputs": [
    {
     "name": "stdout",
     "output_type": "stream",
     "text": [
      "Mr. Sherlock Holmes, who was usually very late in the mornings, save upon those not infrequent occasions when he was up all night, was seated at the breakfast table."
     ]
    }
   ],
   "source": [
    "!python3 ex2.py -i sherlock_short.en.bin -o sherlock_short.de.txt -k 42 -m d\n",
    "!cat sherlock_short.de.txt"
   ]
  },
  {
   "cell_type": "markdown",
   "id": "measured-visitor",
   "metadata": {},
   "source": [
    "Expected output:\n",
    "```\n",
    "Mr. Sherlock Holmes, who was usually very late in the mornings, save upon those not infrequent occasions when he was up all night, was seated at the breakfast table. \n",
    "```"
   ]
  },
  {
   "cell_type": "markdown",
   "id": "weekly-browse",
   "metadata": {},
   "source": [
    "### Part III: Break Shift Cipher of ﬂag"
   ]
  },
  {
   "cell_type": "code",
   "execution_count": 7,
   "id": "united-luxury",
   "metadata": {},
   "outputs": [
    {
     "name": "stdout",
     "output_type": "stream",
     "text": [
      "result/out246: PNG image data, 1200 x 1200, 8-bit/color RGBA, non-interlaced\r\n"
     ]
    }
   ],
   "source": [
    "# fill this in!\n",
    "!file 'result/out246'"
   ]
  },
  {
   "cell_type": "markdown",
   "id": "national-irrigation",
   "metadata": {},
   "source": [
    "Expected output:\n",
    "\n",
    "You'll know it's correct when you see it..."
   ]
  }
 ],
 "metadata": {
  "kernelspec": {
   "display_name": "Python 3 (ipykernel)",
   "language": "python",
   "name": "python3"
  },
  "language_info": {
   "codemirror_mode": {
    "name": "ipython",
    "version": 3
   },
   "file_extension": ".py",
   "mimetype": "text/x-python",
   "name": "python",
   "nbconvert_exporter": "python",
   "pygments_lexer": "ipython3",
   "version": "3.10.4"
  }
 },
 "nbformat": 4,
 "nbformat_minor": 5
}
